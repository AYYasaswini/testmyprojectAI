{
  "nbformat": 4,
  "nbformat_minor": 0,
  "metadata": {
    "colab": {
      "name": "EVA_Assignment5.ipynb",
      "provenance": [],
      "collapsed_sections": [],
      "include_colab_link": true
    },
    "kernelspec": {
      "name": "python3",
      "display_name": "Python 3"
    },
    "accelerator": "GPU"
  },
  "cells": [
    {
      "cell_type": "markdown",
      "metadata": {
        "id": "view-in-github",
        "colab_type": "text"
      },
      "source": [
        "<a href=\"https://colab.research.google.com/github/AYYasaswini/testmyprojectAI/blob/master/EVA_Assignment5.ipynb\" target=\"_parent\"><img src=\"https://colab.research.google.com/assets/colab-badge.svg\" alt=\"Open In Colab\"/></a>"
      ]
    },
    {
      "cell_type": "code",
      "metadata": {
        "id": "0SJyVpgSxHt4",
        "colab_type": "code",
        "colab": {}
      },
      "source": [
        "import numpy as np\n",
        "\n",
        "from keras.models import Sequential\n",
        "from keras.layers import Dense, Dropout, Activation, Flatten, Add, BatchNormalization\n",
        "from keras.layers import Convolution2D, MaxPooling2D\n",
        "from keras.utils import np_utils\n",
        "from keras.preprocessing.image import ImageDataGenerator\n",
        "from keras.datasets import mnist\n",
        "from keras import regularizers"
      ],
      "execution_count": 0,
      "outputs": []
    },
    {
      "cell_type": "code",
      "metadata": {
        "id": "YlEUplvoxKAT",
        "colab_type": "code",
        "colab": {}
      },
      "source": [
        "(X_train, y_train), (X_test, y_test) = mnist.load_data()\n"
      ],
      "execution_count": 0,
      "outputs": []
    },
    {
      "cell_type": "code",
      "metadata": {
        "id": "I6Y9Va-xxMXG",
        "colab_type": "code",
        "outputId": "6e13d928-79e4-4169-e6cf-4f9dbc4f4197",
        "colab": {
          "base_uri": "https://localhost:8080/",
          "height": 303
        }
      },
      "source": [
        "print (X_train.shape)\n",
        "from matplotlib import pyplot as plt\n",
        "%matplotlib inline\n",
        "plt.imshow(X_train[1])\n",
        "plt.imshow(X_test[66])"
      ],
      "execution_count": 0,
      "outputs": [
        {
          "output_type": "stream",
          "text": [
            "(60000, 28, 28)\n"
          ],
          "name": "stdout"
        },
        {
          "output_type": "execute_result",
          "data": {
            "text/plain": [
              "<matplotlib.image.AxesImage at 0x7f21b4633e10>"
            ]
          },
          "metadata": {
            "tags": []
          },
          "execution_count": 107
        },
        {
          "output_type": "display_data",
          "data": {
            "image/png": "[encoded data removed]",
            "text/plain": [
              "<Figure size 432x288 with 1 Axes>"
            ]
          },
          "metadata": {
            "tags": []
          }
        }
      ]
    },
    {
      "cell_type": "code",
      "metadata": {
        "id": "lxDZxPhhxOgO",
        "colab_type": "code",
        "colab": {}
      },
      "source": [
        "X_train = X_train.reshape(X_train.shape[0], 28, 28,1)\n",
        "X_test = X_test.reshape(X_test.shape[0], 28, 28,1)"
      ],
      "execution_count": 0,
      "outputs": []
    },
    {
      "cell_type": "code",
      "metadata": {
        "id": "3HzMqbTnxQQW",
        "colab_type": "code",
        "colab": {}
      },
      "source": [
        "X_train = X_train.astype('float32')\n",
        "X_test = X_test.astype('float32')\n",
        "X_train /= 255\n",
        "X_test /= 255"
      ],
      "execution_count": 0,
      "outputs": []
    },
    {
      "cell_type": "code",
      "metadata": {
        "id": "7LdYiW6ixR9e",
        "colab_type": "code",
        "colab": {}
      },
      "source": [
        "y_train[:10]\n",
        "Y_train = np_utils.to_categorical(y_train, 10)\n",
        "Y_test = np_utils.to_categorical(y_test, 10)"
      ],
      "execution_count": 0,
      "outputs": []
    },
    {
      "cell_type": "code",
      "metadata": {
        "id": "rFR0F9j0xVp2",
        "colab_type": "code",
        "outputId": "c0e59bda-f456-4de4-d066-d9c5681907e7",
        "colab": {
          "base_uri": "https://localhost:8080/",
          "height": 187
        }
      },
      "source": [
        "Y_train[:10]"
      ],
      "execution_count": 0,
      "outputs": [
        {
          "output_type": "execute_result",
          "data": {
            "text/plain": [
              "array([[0., 0., 0., 0., 0., 1., 0., 0., 0., 0.],\n",
              "       [1., 0., 0., 0., 0., 0., 0., 0., 0., 0.],\n",
              "       [0., 0., 0., 0., 1., 0., 0., 0., 0., 0.],\n",
              "       [0., 1., 0., 0., 0., 0., 0., 0., 0., 0.],\n",
              "       [0., 0., 0., 0., 0., 0., 0., 0., 0., 1.],\n",
              "       [0., 0., 1., 0., 0., 0., 0., 0., 0., 0.],\n",
              "       [0., 1., 0., 0., 0., 0., 0., 0., 0., 0.],\n",
              "       [0., 0., 0., 1., 0., 0., 0., 0., 0., 0.],\n",
              "       [0., 1., 0., 0., 0., 0., 0., 0., 0., 0.],\n",
              "       [0., 0., 0., 0., 1., 0., 0., 0., 0., 0.]], dtype=float32)"
            ]
          },
          "metadata": {
            "tags": []
          },
          "execution_count": 62
        }
      ]
    },
    {
      "cell_type": "code",
      "metadata": {
        "id": "mDpXf4YQxXRm",
        "colab_type": "code",
        "outputId": "bcdf26d0-0ae9-4ec2-d125-0a3b5331b1da",
        "colab": {
          "base_uri": "https://localhost:8080/",
          "height": 1000
        }
      },
      "source": [
        "from keras.layers import Activation\n",
        "model = Sequential()\n",
        " \n",
        "model.add(Convolution2D(16, 3, 3, input_shape=(28,28,1),kernel_regularizer=regularizers.l2(0.01))) #26\n",
        "model.add(BatchNormalization())\n",
        "model.add(Activation('relu'))  \n",
        "model.add(Dropout(0.1))\n",
        "\n",
        "model.add(Convolution2D(32, 3, 3,kernel_regularizer=regularizers.l2(0.01))) #24\n",
        "model.add(BatchNormalization())\n",
        "model.add(Activation('relu'))  \n",
        "model.add(Dropout(0.1))\n",
        "\n",
        "model.add(Convolution2D(10, 1, 1))\n",
        "model.add(Activation('relu')) #22\n",
        "\n",
        "model.add(MaxPooling2D(pool_size=(2, 2)))#11\n",
        "\n",
        "model.add(Convolution2D(16, 3, 3,kernel_regularizer=regularizers.l2(0.01)))#9\n",
        "model.add(BatchNormalization())\n",
        "model.add(Activation('relu'))  \n",
        "model.add(Dropout(0.1))\n",
        "\n",
        "\n",
        "model.add(Convolution2D(16, 3, 3,kernel_regularizer=regularizers.l2(0.01)))#7\n",
        "model.add(BatchNormalization())\n",
        "model.add(Activation('relu'))  \n",
        "model.add(Dropout(0.1))\n",
        "                                                                                                                                                                                                                                                   \n",
        "\n",
        "model.add(Convolution2D(16, 3, 3,kernel_regularizer=regularizers.l2(0.01)))#5\n",
        "model.add(BatchNormalization())\n",
        "model.add(Activation('relu'))  \n",
        "model.add(Dropout(0.1))\n",
        "\n",
        "\n",
        "model.add(Convolution2D(16, 3, 3,kernel_regularizer=regularizers.l2(0.01)))#3\n",
        "model.add(BatchNormalization())\n",
        "model.add(Activation('relu'))  \n",
        "model.add(Dropout(0.1))\n",
        "\n",
        "\n",
        "model.add(Convolution2D(10, 4, 4,kernel_regularizer=regularizers.l2(0.01)))\n",
        "model.add(BatchNormalization())\n",
        "model.add(Activation('relu'))\n",
        "model.add(Dropout(0.1))\n",
        "\n",
        "\n",
        "model.add(Flatten())\n",
        "model.add(Activation('softmax'))\n",
        "\n",
        "\n",
        "model.summary()"
      ],
      "execution_count": 0,
      "outputs": [
        {
          "output_type": "stream",
          "text": [
            "/usr/local/lib/python3.6/dist-packages/ipykernel_launcher.py:4: UserWarning: Update your `Conv2D` call to the Keras 2 API: `Conv2D(16, (3, 3), input_shape=(28, 28, 1..., kernel_regularizer=<keras.reg...)`\n",
            "  after removing the cwd from sys.path.\n",
            "/usr/local/lib/python3.6/dist-packages/ipykernel_launcher.py:9: UserWarning: Update your `Conv2D` call to the Keras 2 API: `Conv2D(32, (3, 3), kernel_regularizer=<keras.reg...)`\n",
            "  if __name__ == '__main__':\n",
            "/usr/local/lib/python3.6/dist-packages/ipykernel_launcher.py:14: UserWarning: Update your `Conv2D` call to the Keras 2 API: `Conv2D(10, (1, 1))`\n",
            "  \n",
            "/usr/local/lib/python3.6/dist-packages/ipykernel_launcher.py:19: UserWarning: Update your `Conv2D` call to the Keras 2 API: `Conv2D(16, (3, 3), kernel_regularizer=<keras.reg...)`\n",
            "/usr/local/lib/python3.6/dist-packages/ipykernel_launcher.py:25: UserWarning: Update your `Conv2D` call to the Keras 2 API: `Conv2D(16, (3, 3), kernel_regularizer=<keras.reg...)`\n",
            "/usr/local/lib/python3.6/dist-packages/ipykernel_launcher.py:31: UserWarning: Update your `Conv2D` call to the Keras 2 API: `Conv2D(16, (3, 3), kernel_regularizer=<keras.reg...)`\n",
            "/usr/local/lib/python3.6/dist-packages/ipykernel_launcher.py:37: UserWarning: Update your `Conv2D` call to the Keras 2 API: `Conv2D(16, (3, 3), kernel_regularizer=<keras.reg...)`\n",
            "/usr/local/lib/python3.6/dist-packages/ipykernel_launcher.py:43: UserWarning: Update your `Conv2D` call to the Keras 2 API: `Conv2D(10, (4, 4), kernel_regularizer=<keras.reg...)`\n"
          ],
          "name": "stderr"
        },
        {
          "output_type": "stream",
          "text": [
            "_________________________________________________________________\n",
            "Layer (type)                 Output Shape              Param #   \n",
            "=================================================================\n",
            "conv2d_17 (Conv2D)           (None, 26, 26, 16)        160       \n",
            "_________________________________________________________________\n",
            "batch_normalization_15 (Batc (None, 26, 26, 16)        64        \n",
            "_________________________________________________________________\n",
            "activation_17 (Activation)   (None, 26, 26, 16)        0         \n",
            "_________________________________________________________________\n",
            "dropout_15 (Dropout)         (None, 26, 26, 16)        0         \n",
            "_________________________________________________________________\n",
            "conv2d_18 (Conv2D)           (None, 24, 24, 32)        4640      \n",
            "_________________________________________________________________\n",
            "batch_normalization_16 (Batc (None, 24, 24, 32)        128       \n",
            "_________________________________________________________________\n",
            "activation_18 (Activation)   (None, 24, 24, 32)        0         \n",
            "_________________________________________________________________\n",
            "dropout_16 (Dropout)         (None, 24, 24, 32)        0         \n",
            "_________________________________________________________________\n",
            "conv2d_19 (Conv2D)           (None, 24, 24, 10)        330       \n",
            "_________________________________________________________________\n",
            "activation_19 (Activation)   (None, 24, 24, 10)        0         \n",
            "_________________________________________________________________\n",
            "max_pooling2d_3 (MaxPooling2 (None, 12, 12, 10)        0         \n",
            "_________________________________________________________________\n",
            "conv2d_20 (Conv2D)           (None, 10, 10, 16)        1456      \n",
            "_________________________________________________________________\n",
            "batch_normalization_17 (Batc (None, 10, 10, 16)        64        \n",
            "_________________________________________________________________\n",
            "activation_20 (Activation)   (None, 10, 10, 16)        0         \n",
            "_________________________________________________________________\n",
            "dropout_17 (Dropout)         (None, 10, 10, 16)        0         \n",
            "_________________________________________________________________\n",
            "conv2d_21 (Conv2D)           (None, 8, 8, 16)          2320      \n",
            "_________________________________________________________________\n",
            "batch_normalization_18 (Batc (None, 8, 8, 16)          64        \n",
            "_________________________________________________________________\n",
            "activation_21 (Activation)   (None, 8, 8, 16)          0         \n",
            "_________________________________________________________________\n",
            "dropout_18 (Dropout)         (None, 8, 8, 16)          0         \n",
            "_________________________________________________________________\n",
            "conv2d_22 (Conv2D)           (None, 6, 6, 16)          2320      \n",
            "_________________________________________________________________\n",
            "batch_normalization_19 (Batc (None, 6, 6, 16)          64        \n",
            "_________________________________________________________________\n",
            "activation_22 (Activation)   (None, 6, 6, 16)          0         \n",
            "_________________________________________________________________\n",
            "dropout_19 (Dropout)         (None, 6, 6, 16)          0         \n",
            "_________________________________________________________________\n",
            "conv2d_23 (Conv2D)           (None, 4, 4, 16)          2320      \n",
            "_________________________________________________________________\n",
            "batch_normalization_20 (Batc (None, 4, 4, 16)          64        \n",
            "_________________________________________________________________\n",
            "activation_23 (Activation)   (None, 4, 4, 16)          0         \n",
            "_________________________________________________________________\n",
            "dropout_20 (Dropout)         (None, 4, 4, 16)          0         \n",
            "_________________________________________________________________\n",
            "conv2d_24 (Conv2D)           (None, 1, 1, 10)          2570      \n",
            "_________________________________________________________________\n",
            "batch_normalization_21 (Batc (None, 1, 1, 10)          40        \n",
            "_________________________________________________________________\n",
            "dropout_21 (Dropout)         (None, 1, 1, 10)          0         \n",
            "_________________________________________________________________\n",
            "flatten_3 (Flatten)          (None, 10)                0         \n",
            "_________________________________________________________________\n",
            "activation_24 (Activation)   (None, 10)                0         \n",
            "=================================================================\n",
            "Total params: 16,604\n",
            "Trainable params: 16,360\n",
            "Non-trainable params: 244\n",
            "_________________________________________________________________\n"
          ],
          "name": "stdout"
        }
      ]
    },
    {
      "cell_type": "code",
      "metadata": {
        "id": "L2IicGJ4x3Be",
        "colab_type": "code",
        "outputId": "5d5dda4f-f792-42c2-c518-ea27fae68555",
        "colab": {
          "base_uri": "https://localhost:8080/",
          "height": 462
        }
      },
      "source": [
        "from keras.optimizers import Adam\n",
        "\n",
        "model.compile(loss='categorical_crossentropy', optimizer=Adam(lr=0.01), metrics=['accuracy'])\n",
        "datagen = ImageDataGenerator(featurewise_center=True, featurewise_std_normalization=True)\n",
        "\n",
        "\n",
        "model.fit_generator(datagen.flow(X_train, Y_train, batch_size=32),validation_data=(X_test, Y_test), \n",
        "                    steps_per_epoch=len(X_train) / 32, epochs=10)"
      ],
      "execution_count": 0,
      "outputs": [
        {
          "output_type": "stream",
          "text": [
            "Epoch 1/10\n"
          ],
          "name": "stdout"
        },
        {
          "output_type": "stream",
          "text": [
            "/usr/local/lib/python3.6/dist-packages/keras_preprocessing/image/image_data_generator.py:716: UserWarning: This ImageDataGenerator specifies `featurewise_center`, but it hasn't been fit on any training data. Fit it first by calling `.fit(numpy_data)`.\n",
            "  warnings.warn('This ImageDataGenerator specifies '\n",
            "/usr/local/lib/python3.6/dist-packages/keras_preprocessing/image/image_data_generator.py:724: UserWarning: This ImageDataGenerator specifies `featurewise_std_normalization`, but it hasn't been fit on any training data. Fit it first by calling `.fit(numpy_data)`.\n",
            "  warnings.warn('This ImageDataGenerator specifies '\n"
          ],
          "name": "stderr"
        },
        {
          "output_type": "stream",
          "text": [
            "1875/1875 [==============================] - 27s 14ms/step - loss: 0.9544 - acc: 0.8196 - val_loss: 0.6437 - val_acc: 0.9372\n",
            "Epoch 2/10\n",
            "1875/1875 [==============================] - 24s 13ms/step - loss: 0.8141 - acc: 0.8446 - val_loss: 0.7476 - val_acc: 0.8677\n",
            "Epoch 3/10\n",
            "1875/1875 [==============================] - 24s 13ms/step - loss: 0.7848 - acc: 0.8451 - val_loss: 1.0313 - val_acc: 0.7654\n",
            "Epoch 4/10\n",
            "1875/1875 [==============================] - 24s 13ms/step - loss: 0.7667 - acc: 0.8502 - val_loss: 0.7776 - val_acc: 0.8599\n",
            "Epoch 5/10\n",
            "1875/1875 [==============================] - 24s 13ms/step - loss: 0.7529 - acc: 0.8497 - val_loss: 0.5906 - val_acc: 0.9123\n",
            "Epoch 6/10\n",
            "1875/1875 [==============================] - 24s 13ms/step - loss: 0.7409 - acc: 0.8505 - val_loss: 0.6293 - val_acc: 0.8827\n",
            "Epoch 7/10\n",
            "1875/1875 [==============================] - 25s 13ms/step - loss: 0.7284 - acc: 0.8539 - val_loss: 0.4840 - val_acc: 0.9452\n",
            "Epoch 8/10\n",
            "1875/1875 [==============================] - 25s 13ms/step - loss: 0.7234 - acc: 0.8529 - val_loss: 0.7174 - val_acc: 0.8576\n",
            "Epoch 9/10\n",
            "1875/1875 [==============================] - 24s 13ms/step - loss: 0.7250 - acc: 0.8526 - val_loss: 0.6123 - val_acc: 0.8784\n",
            "Epoch 10/10\n",
            "1875/1875 [==============================] - 24s 13ms/step - loss: 0.7168 - acc: 0.8530 - val_loss: 0.5848 - val_acc: 0.8997\n"
          ],
          "name": "stdout"
        },
        {
          "output_type": "execute_result",
          "data": {
            "text/plain": [
              "<keras.callbacks.History at 0x7f21cf5218d0>"
            ]
          },
          "metadata": {
            "tags": []
          },
          "execution_count": 64
        }
      ]
    },
    {
      "cell_type": "code",
      "metadata": {
        "id": "-zRWplDYPOoW",
        "colab_type": "code",
        "outputId": "981dfb6b-24b5-4a0f-bc71-7cacb6f1cb95",
        "colab": {
          "base_uri": "https://localhost:8080/",
          "height": 34
        }
      },
      "source": [
        "score = model.evaluate(X_test, Y_test, verbose=0)\n",
        "print(score)"
      ],
      "execution_count": 0,
      "outputs": [
        {
          "output_type": "stream",
          "text": [
            "[0.5848162168502807, 0.8997]\n"
          ],
          "name": "stdout"
        }
      ]
    },
    {
      "cell_type": "code",
      "metadata": {
        "id": "--CrChgOfUUK",
        "colab_type": "code",
        "colab": {}
      },
      "source": [
        "pred=model.predict(X_test)\n",
        "pred_digits=np.argmax(pred,axis=1)"
      ],
      "execution_count": 0,
      "outputs": []
    },
    {
      "cell_type": "code",
      "metadata": {
        "id": "oQ4fsaUwfdrR",
        "colab_type": "code",
        "colab": {}
      },
      "source": [
        "i=0\n",
        "prop_class=[]\n",
        "mis_class=[]\n",
        "\n",
        "for i in range(len(Y_test)):\n",
        "    if(np.argmax(Y_test[i])==pred_digits[i]):\n",
        "        prop_class.append(i)\n",
        "    #if(len(prop_class)==8):\n",
        "        #break\n",
        "\n",
        "i=0\n",
        "for i in range(len(Y_test)):\n",
        "    if(not np.argmax(Y_test[i])==pred_digits[i]):\n",
        "        mis_class.append(i)\n",
        "    #if(len(mis_class)==8):\n",
        "        #break"
      ],
      "execution_count": 0,
      "outputs": []
    },
    {
      "cell_type": "code",
      "metadata": {
        "id": "czBN2isOy8sz",
        "colab_type": "code",
        "outputId": "ba864d54-aa18-4e9e-cc52-007fe4a59820",
        "colab": {
          "base_uri": "https://localhost:8080/",
          "height": 34
        }
      },
      "source": [
        "Y_test.shape"
      ],
      "execution_count": 0,
      "outputs": [
        {
          "output_type": "execute_result",
          "data": {
            "text/plain": [
              "(10000, 10)"
            ]
          },
          "metadata": {
            "tags": []
          },
          "execution_count": 69
        }
      ]
    },
    {
      "cell_type": "code",
      "metadata": {
        "id": "s99CA11xy8cX",
        "colab_type": "code",
        "outputId": "90b404e6-8edf-47e2-98dd-681d4a19aa4b",
        "colab": {
          "base_uri": "https://localhost:8080/",
          "height": 34
        }
      },
      "source": [
        "print(X_test.shape)"
      ],
      "execution_count": 0,
      "outputs": [
        {
          "output_type": "stream",
          "text": [
            "(10000, 28, 28, 1)\n"
          ],
          "name": "stdout"
        }
      ]
    },
    {
      "cell_type": "code",
      "metadata": {
        "id": "EE_w2VKP_B8q",
        "colab_type": "code",
        "outputId": "59a197cf-539b-4057-d8b1-5652bf91fa3c",
        "colab": {
          "base_uri": "https://localhost:8080/",
          "height": 34
        }
      },
      "source": [
        "print(len(mis_class))"
      ],
      "execution_count": 0,
      "outputs": [
        {
          "output_type": "stream",
          "text": [
            "1003\n"
          ],
          "name": "stdout"
        }
      ]
    },
    {
      "cell_type": "code",
      "metadata": {
        "id": "r9XeKvgNg1wL",
        "colab_type": "code",
        "outputId": "026fd827-6907-44f1-a7ca-1bf5d9bdd55d",
        "colab": {
          "base_uri": "https://localhost:8080/",
          "height": 1000
        }
      },
      "source": [
        "import matplotlib.pyplot as plt\n",
        "import matplotlib.image as mpimg\n",
        "for index in range(len(mis_class)):\n",
        "    plt.subplot(5, 5, index+1)\n",
        "    # Don't plot any axes\n",
        "    plt.axis('off')\n",
        "    # Display images in all subplots \n",
        "    print(\"Index of Misclassified:\",mis_class[index])\n",
        "    plt.imshow(X_test[mis_class[index]], cmap=plt.cm.gray_r,interpolation='nearest')\n",
        "    # Add a title to each subplot\n",
        "    act_value = y_test[mis_class[index]]\n",
        "    pred_value = pred_digits[mis_class[index]]\n",
        "    print(\"Actual Value\",act_value)\n",
        "    print(\"predicted Value\",pred_value)\n",
        "    if(index == 24):\n",
        "        break\n",
        "    plt.title('Actual Value ' + Y_test[mis_class[index]])\n"
      ],
      "execution_count": 0,
      "outputs": [
        {
          "output_type": "stream",
          "text": [
            "Index of Misclassified: 66\n",
            "Actual Value 6\n",
            "predicted Value 0\n",
            "Index of Misclassified: 72\n",
            "Actual Value 2\n",
            "predicted Value 0\n",
            "Index of Misclassified: 73\n",
            "Actual Value 9\n",
            "predicted Value 7\n",
            "Index of Misclassified: 92\n",
            "Actual Value 9\n",
            "predicted Value 4\n",
            "Index of Misclassified: 97\n",
            "Actual Value 7\n",
            "predicted Value 3\n",
            "Index of Misclassified: 104\n",
            "Actual Value 9\n",
            "predicted Value 5\n",
            "Index of Misclassified: 110\n",
            "Actual Value 8\n",
            "predicted Value 3\n",
            "Index of Misclassified: 119\n",
            "Actual Value 2\n",
            "predicted Value 7\n",
            "Index of Misclassified: 149\n",
            "Actual Value 2\n",
            "predicted Value 4\n",
            "Index of Misclassified: 177\n",
            "Actual Value 8\n",
            "predicted Value 3\n",
            "Index of Misclassified: 179\n",
            "Actual Value 8\n",
            "predicted Value 3\n",
            "Index of Misclassified: 184\n",
            "Actual Value 8\n",
            "predicted Value 3\n",
            "Index of Misclassified: 195\n",
            "Actual Value 3\n",
            "predicted Value 4\n",
            "Index of Misclassified: 233\n",
            "Actual Value 8\n",
            "predicted Value 9\n",
            "Index of Misclassified: 242\n",
            "Actual Value 8\n",
            "predicted Value 7\n",
            "Index of Misclassified: 243\n",
            "Actual Value 7\n",
            "predicted Value 3\n",
            "Index of Misclassified: 244\n",
            "Actual Value 2\n",
            "predicted Value 1\n",
            "Index of Misclassified: 257\n",
            "Actual Value 8\n",
            "predicted Value 1\n",
            "Index of Misclassified: 259\n",
            "Actual Value 6\n",
            "predicted Value 0\n",
            "Index of Misclassified: 261\n",
            "Actual Value 5\n",
            "predicted Value 3\n",
            "Index of Misclassified: 277\n",
            "Actual Value 8\n",
            "predicted Value 3\n",
            "Index of Misclassified: 290\n",
            "Actual Value 8\n",
            "predicted Value 4\n",
            "Index of Misclassified: 299\n",
            "Actual Value 8\n",
            "predicted Value 3\n",
            "Index of Misclassified: 313\n",
            "Actual Value 3\n",
            "predicted Value 4\n",
            "Index of Misclassified: 320\n",
            "Actual Value 9\n",
            "predicted Value 7\n"
          ],
          "name": "stdout"
        },
        {
          "output_type": "display_data",
          "data": {
            "image/png": "[encoded data removed]",
            "text/plain": [
              "<Figure size 432x288 with 25 Axes>"
            ]
          },
          "metadata": {
            "tags": []
          }
        }
      ]
    }
  ]
}