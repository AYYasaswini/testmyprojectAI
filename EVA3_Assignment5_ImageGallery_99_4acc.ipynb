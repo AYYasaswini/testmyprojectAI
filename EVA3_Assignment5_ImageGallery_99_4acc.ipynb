{
  "nbformat": 4,
  "nbformat_minor": 0,
  "metadata": {
    "colab": {
      "name": "Copy of EVA3_Assignment5_ImageGallery_99_49.ipynb",
      "provenance": [],
      "collapsed_sections": [],
      "toc_visible": true,
      "include_colab_link": true
    },
    "kernelspec": {
      "name": "python3",
      "display_name": "Python 3"
    },
    "accelerator": "GPU"
  },
  "cells": [
    {
      "cell_type": "markdown",
      "metadata": {
        "id": "view-in-github",
        "colab_type": "text"
      },
      "source": [
        "<a href=\"https://colab.research.google.com/github/AYYasaswini/testmyprojectAI/blob/master/EVA3_Assignment5_ImageGallery_99_4acc.ipynb\" target=\"_parent\"><img src=\"https://colab.research.google.com/assets/colab-badge.svg\" alt=\"Open In Colab\"/></a>"
      ]
    },
    {
      "cell_type": "code",
      "metadata": {
        "id": "0SJyVpgSxHt4",
        "colab_type": "code",
        "colab": {}
      },
      "source": [
        "import numpy as np\n",
        "\n",
        "from keras.models import Sequential\n",
        "from keras.layers import Dense, Dropout, Activation, Flatten, Add, BatchNormalization\n",
        "from keras.layers import Convolution2D, MaxPooling2D\n",
        "from keras.utils import np_utils\n",
        "\n",
        "from keras.datasets import mnist"
      ],
      "execution_count": 0,
      "outputs": []
    },
    {
      "cell_type": "code",
      "metadata": {
        "id": "YlEUplvoxKAT",
        "colab_type": "code",
        "colab": {}
      },
      "source": [
        "(X_train, y_train), (X_test, y_test) = mnist.load_data()\n"
      ],
      "execution_count": 0,
      "outputs": []
    },
    {
      "cell_type": "code",
      "metadata": {
        "id": "I6Y9Va-xxMXG",
        "colab_type": "code",
        "outputId": "a709c376-15e0-44c5-b823-edd8d44160e0",
        "colab": {
          "base_uri": "https://localhost:8080/",
          "height": 302
        }
      },
      "source": [
        "print (X_train.shape)\n",
        "from matplotlib import pyplot as plt\n",
        "%matplotlib inline\n",
        "plt.imshow(X_train[1])"
      ],
      "execution_count": 58,
      "outputs": [
        {
          "output_type": "stream",
          "text": [
            "(60000, 28, 28)\n"
          ],
          "name": "stdout"
        },
        {
          "output_type": "execute_result",
          "data": {
            "text/plain": [
              "<matplotlib.image.AxesImage at 0x7fc0304639e8>"
            ]
          },
          "metadata": {
            "tags": []
          },
          "execution_count": 58
        },
        {
          "output_type": "display_data",
          "data": {
            "image/png": "[encoded data removed]",
            "text/plain": [
              "<Figure size 432x288 with 1 Axes>"
            ]
          },
          "metadata": {
            "tags": []
          }
        }
      ]
    },
    {
      "cell_type": "code",
      "metadata": {
        "id": "lxDZxPhhxOgO",
        "colab_type": "code",
        "colab": {}
      },
      "source": [
        "X_train = X_train.reshape(X_train.shape[0], 28, 28,1)\n",
        "X_test = X_test.reshape(X_test.shape[0], 28, 28,1)"
      ],
      "execution_count": 0,
      "outputs": []
    },
    {
      "cell_type": "code",
      "metadata": {
        "id": "3HzMqbTnxQQW",
        "colab_type": "code",
        "colab": {}
      },
      "source": [
        "X_train = X_train.astype('float32')\n",
        "X_test = X_test.astype('float32')\n",
        "X_train /= 255\n",
        "X_test /= 255"
      ],
      "execution_count": 0,
      "outputs": []
    },
    {
      "cell_type": "code",
      "metadata": {
        "id": "7LdYiW6ixR9e",
        "colab_type": "code",
        "colab": {}
      },
      "source": [
        "y_train[:10]\n",
        "Y_train = np_utils.to_categorical(y_train, 10)\n",
        "Y_test = np_utils.to_categorical(y_test, 10)"
      ],
      "execution_count": 0,
      "outputs": []
    },
    {
      "cell_type": "code",
      "metadata": {
        "id": "rFR0F9j0xVp2",
        "colab_type": "code",
        "outputId": "49799c9f-e182-426c-9d9d-a610c0882d14",
        "colab": {
          "base_uri": "https://localhost:8080/",
          "height": 183
        }
      },
      "source": [
        "Y_train[:10]"
      ],
      "execution_count": 62,
      "outputs": [
        {
          "output_type": "execute_result",
          "data": {
            "text/plain": [
              "array([[0., 0., 0., 0., 0., 1., 0., 0., 0., 0.],\n",
              "       [1., 0., 0., 0., 0., 0., 0., 0., 0., 0.],\n",
              "       [0., 0., 0., 0., 1., 0., 0., 0., 0., 0.],\n",
              "       [0., 1., 0., 0., 0., 0., 0., 0., 0., 0.],\n",
              "       [0., 0., 0., 0., 0., 0., 0., 0., 0., 1.],\n",
              "       [0., 0., 1., 0., 0., 0., 0., 0., 0., 0.],\n",
              "       [0., 1., 0., 0., 0., 0., 0., 0., 0., 0.],\n",
              "       [0., 0., 0., 1., 0., 0., 0., 0., 0., 0.],\n",
              "       [0., 1., 0., 0., 0., 0., 0., 0., 0., 0.],\n",
              "       [0., 0., 0., 0., 1., 0., 0., 0., 0., 0.]], dtype=float32)"
            ]
          },
          "metadata": {
            "tags": []
          },
          "execution_count": 62
        }
      ]
    },
    {
      "cell_type": "code",
      "metadata": {
        "id": "mDpXf4YQxXRm",
        "colab_type": "code",
        "outputId": "86fe9540-0268-4c3e-a570-08f38a5a146f",
        "colab": {
          "base_uri": "https://localhost:8080/",
          "height": 1000
        }
      },
      "source": [
        "from keras.layers import Activation\n",
        "from keras import regularizers # L2 regularization\n",
        "model = Sequential()\n",
        " \n",
        "model.add(Convolution2D(16, 3, 3, input_shape=(28,28,1))) #26 L2 regularization\n",
        "model.add(BatchNormalization())\n",
        "model.add(Activation('relu')) #2 ReLU after BN\n",
        "model.add(Dropout(0.1))\n",
        "\n",
        "model.add(Convolution2D(32, 3, 3)) #24\n",
        "model.add(BatchNormalization())\n",
        "model.add(Activation('relu'))  \n",
        "model.add(Dropout(0.1))\n",
        "\n",
        "model.add(Convolution2D(10, 1, 1 )) #22\n",
        "\n",
        "model.add(MaxPooling2D(pool_size=(2, 2)))#11\n",
        "\n",
        "model.add(Convolution2D(16, 3, 3 ))#9\n",
        "model.add(BatchNormalization())\n",
        "model.add(Activation('relu')) \n",
        "model.add(Dropout(0.1))\n",
        "\n",
        "\n",
        "model.add(Convolution2D(16, 3, 3 ))#7\n",
        "model.add(BatchNormalization())\n",
        "model.add(Activation('relu')) \n",
        "model.add(Dropout(0.1))\n",
        "\n",
        "\n",
        "model.add(Convolution2D(16, 3, 3 ))#5\n",
        "model.add(BatchNormalization())\n",
        "model.add(Activation('relu')) \n",
        "model.add(Dropout(0.1))\n",
        "\n",
        "\n",
        "model.add(Convolution2D(16, 3, 3 ))#3\n",
        "model.add(BatchNormalization())\n",
        "model.add(Activation('relu')) \n",
        "model.add(Dropout(0.1))\n",
        "\n",
        "\n",
        "model.add(Convolution2D(10, 4, 4))\n",
        "model.add(BatchNormalization())\n",
        "model.add(Activation('relu')) \n",
        "model.add(Dropout(0.1))\n",
        "\n",
        "\n",
        "model.add(Flatten())\n",
        "model.add(Activation('softmax'))\n",
        "\n",
        "\n",
        "model.summary()"
      ],
      "execution_count": 63,
      "outputs": [
        {
          "output_type": "stream",
          "text": [
            "/usr/local/lib/python3.6/dist-packages/ipykernel_launcher.py:5: UserWarning: Update your `Conv2D` call to the Keras 2 API: `Conv2D(16, (3, 3), input_shape=(28, 28, 1...)`\n",
            "  \"\"\"\n",
            "/usr/local/lib/python3.6/dist-packages/ipykernel_launcher.py:10: UserWarning: Update your `Conv2D` call to the Keras 2 API: `Conv2D(32, (3, 3))`\n",
            "  # Remove the CWD from sys.path while we load stuff.\n",
            "/usr/local/lib/python3.6/dist-packages/ipykernel_launcher.py:15: UserWarning: Update your `Conv2D` call to the Keras 2 API: `Conv2D(10, (1, 1))`\n",
            "  from ipykernel import kernelapp as app\n",
            "/usr/local/lib/python3.6/dist-packages/ipykernel_launcher.py:19: UserWarning: Update your `Conv2D` call to the Keras 2 API: `Conv2D(16, (3, 3))`\n",
            "/usr/local/lib/python3.6/dist-packages/ipykernel_launcher.py:25: UserWarning: Update your `Conv2D` call to the Keras 2 API: `Conv2D(16, (3, 3))`\n",
            "/usr/local/lib/python3.6/dist-packages/ipykernel_launcher.py:31: UserWarning: Update your `Conv2D` call to the Keras 2 API: `Conv2D(16, (3, 3))`\n",
            "/usr/local/lib/python3.6/dist-packages/ipykernel_launcher.py:37: UserWarning: Update your `Conv2D` call to the Keras 2 API: `Conv2D(16, (3, 3))`\n"
          ],
          "name": "stderr"
        },
        {
          "output_type": "stream",
          "text": [
            "Model: \"sequential_5\"\n",
            "_________________________________________________________________\n",
            "Layer (type)                 Output Shape              Param #   \n",
            "=================================================================\n",
            "conv2d_33 (Conv2D)           (None, 26, 26, 16)        160       \n",
            "_________________________________________________________________\n",
            "batch_normalization_29 (Batc (None, 26, 26, 16)        64        \n",
            "_________________________________________________________________\n",
            "activation_33 (Activation)   (None, 26, 26, 16)        0         \n",
            "_________________________________________________________________\n",
            "dropout_29 (Dropout)         (None, 26, 26, 16)        0         \n",
            "_________________________________________________________________\n",
            "conv2d_34 (Conv2D)           (None, 24, 24, 32)        4640      \n",
            "_________________________________________________________________\n",
            "batch_normalization_30 (Batc (None, 24, 24, 32)        128       \n",
            "_________________________________________________________________\n",
            "activation_34 (Activation)   (None, 24, 24, 32)        0         \n",
            "_________________________________________________________________\n",
            "dropout_30 (Dropout)         (None, 24, 24, 32)        0         \n",
            "_________________________________________________________________\n",
            "conv2d_35 (Conv2D)           (None, 24, 24, 10)        330       \n",
            "_________________________________________________________________\n",
            "max_pooling2d_5 (MaxPooling2 (None, 12, 12, 10)        0         \n",
            "_________________________________________________________________\n",
            "conv2d_36 (Conv2D)           (None, 10, 10, 16)        1456      \n",
            "_________________________________________________________________\n",
            "batch_normalization_31 (Batc (None, 10, 10, 16)        64        \n",
            "_________________________________________________________________\n",
            "activation_35 (Activation)   (None, 10, 10, 16)        0         \n",
            "_________________________________________________________________\n",
            "dropout_31 (Dropout)         (None, 10, 10, 16)        0         \n",
            "_________________________________________________________________\n",
            "conv2d_37 (Conv2D)           (None, 8, 8, 16)          2320      \n",
            "_________________________________________________________________\n",
            "batch_normalization_32 (Batc (None, 8, 8, 16)          64        \n",
            "_________________________________________________________________\n",
            "activation_36 (Activation)   (None, 8, 8, 16)          0         \n",
            "_________________________________________________________________\n",
            "dropout_32 (Dropout)         (None, 8, 8, 16)          0         \n",
            "_________________________________________________________________\n",
            "conv2d_38 (Conv2D)           (None, 6, 6, 16)          2320      \n",
            "_________________________________________________________________\n",
            "batch_normalization_33 (Batc (None, 6, 6, 16)          64        \n",
            "_________________________________________________________________\n",
            "activation_37 (Activation)   (None, 6, 6, 16)          0         \n",
            "_________________________________________________________________\n",
            "dropout_33 (Dropout)         (None, 6, 6, 16)          0         \n",
            "_________________________________________________________________\n",
            "conv2d_39 (Conv2D)           (None, 4, 4, 16)          2320      \n",
            "_________________________________________________________________\n",
            "batch_normalization_34 (Batc (None, 4, 4, 16)          64        \n",
            "_________________________________________________________________\n",
            "activation_38 (Activation)   (None, 4, 4, 16)          0         \n",
            "_________________________________________________________________\n",
            "dropout_34 (Dropout)         (None, 4, 4, 16)          0         \n",
            "_________________________________________________________________\n",
            "conv2d_40 (Conv2D)           (None, 1, 1, 10)          2570      \n",
            "_________________________________________________________________\n",
            "batch_normalization_35 (Batc (None, 1, 1, 10)          40        \n",
            "_________________________________________________________________\n",
            "activation_39 (Activation)   (None, 1, 1, 10)          0         \n",
            "_________________________________________________________________\n",
            "dropout_35 (Dropout)         (None, 1, 1, 10)          0         \n",
            "_________________________________________________________________\n",
            "flatten_5 (Flatten)          (None, 10)                0         \n",
            "_________________________________________________________________\n",
            "activation_40 (Activation)   (None, 10)                0         \n",
            "=================================================================\n",
            "Total params: 16,604\n",
            "Trainable params: 16,360\n",
            "Non-trainable params: 244\n",
            "_________________________________________________________________\n"
          ],
          "name": "stdout"
        },
        {
          "output_type": "stream",
          "text": [
            "/usr/local/lib/python3.6/dist-packages/ipykernel_launcher.py:43: UserWarning: Update your `Conv2D` call to the Keras 2 API: `Conv2D(10, (4, 4))`\n"
          ],
          "name": "stderr"
        }
      ]
    },
    {
      "cell_type": "code",
      "metadata": {
        "id": "rYT6LpDr-AIN",
        "colab_type": "code",
        "colab": {}
      },
      "source": [
        ""
      ],
      "execution_count": 0,
      "outputs": []
    },
    {
      "cell_type": "code",
      "metadata": {
        "id": "L2IicGJ4x3Be",
        "colab_type": "code",
        "outputId": "cdbc4042-af3a-4e35-96e1-2b4aec36042b",
        "colab": {
          "base_uri": "https://localhost:8080/",
          "height": 1000
        }
      },
      "source": [
        "from keras.optimizers import Adam\n",
        "from keras.callbacks import LearningRateScheduler\n",
        "from keras.callbacks import ModelCheckpoint\n",
        "from keras.preprocessing.image import ImageDataGenerator\n",
        "from keras import backend as K\n",
        "def scheduler(epoch, lr):\n",
        "  return round(0.003 * 1/(1 + 0.319 * epoch), 10)\n",
        "# To save the model\n",
        "checkpoint = ModelCheckpoint('model-{epoch:03d}-{acc:03f}-{val_acc:03f}.h5', verbose=1, monitor='val_loss',save_best_only=True, mode='auto') \n",
        "def custom_loss(actual,predicted):\n",
        "    sqr_w = 0\n",
        "    lamda = 0.01 #1e-4\n",
        "    batch_size =128\n",
        "    for layer in model.layers:\n",
        "       sqr_w += sqr_w + np.sum(np.sum(np.sum(np.square(layer.get_weights()))))\n",
        "\n",
        "    l2_regularization = (lamda*sqr_w)/2*(batch_size)\n",
        "    loss = K.categorical_crossentropy(actual,predicted) + l2_regularization\n",
        "\n",
        "    # Return a function\n",
        "    return loss\n",
        "#model.compile(loss='categorical_crossentropy', optimizer=Adam(lr=0.003), metrics=['accuracy'])\n",
        "model.compile(loss=custom_loss, optimizer=Adam(lr=0.003), metrics=['accuracy'])\n",
        "\n",
        "#1 image normalization\n",
        "###########################################################################################################################################################################\n",
        "datagen = ImageDataGenerator(featurewise_center=True, featurewise_std_normalization=True)\n",
        "#Run your new code for 40 epochs and save the model\n",
        "\n",
        "model.fit_generator(datagen.flow(X_train, Y_train, batch_size=128),validation_data=(X_test, Y_test), \n",
        "                    steps_per_epoch=len(X_train) / 128, epochs=40, callbacks=[checkpoint])\n",
        "###########################################################################################################################################################################\n",
        " \n",
        "\n",
        "\n",
        "#model.fit(X, y, epochs=15, validation_split=0.4, callbacks=[checkpoint], verbose=False)\n",
        "#model.fit(X_train, Y_train, batch_size=128, epochs=20, verbose=1, validation_data=(X_test, Y_test), callbacks=[LearningRateScheduler(scheduler, verbose=1)])"
      ],
      "execution_count": 65,
      "outputs": [
        {
          "output_type": "stream",
          "text": [
            "Epoch 1/40\n"
          ],
          "name": "stdout"
        },
        {
          "output_type": "stream",
          "text": [
            "/usr/local/lib/python3.6/dist-packages/keras_preprocessing/image/image_data_generator.py:716: UserWarning: This ImageDataGenerator specifies `featurewise_center`, but it hasn't been fit on any training data. Fit it first by calling `.fit(numpy_data)`.\n",
            "  warnings.warn('This ImageDataGenerator specifies '\n",
            "/usr/local/lib/python3.6/dist-packages/keras_preprocessing/image/image_data_generator.py:724: UserWarning: This ImageDataGenerator specifies `featurewise_std_normalization`, but it hasn't been fit on any training data. Fit it first by calling `.fit(numpy_data)`.\n",
            "  warnings.warn('This ImageDataGenerator specifies '\n"
          ],
          "name": "stderr"
        },
        {
          "output_type": "stream",
          "text": [
            "469/468 [==============================] - 16s 34ms/step - loss: 29437442048.0000 - acc: 0.8377 - val_loss: 29437442048.0000 - val_acc: 0.9801\n",
            "\n",
            "Epoch 00001: val_loss improved from inf to 29437442048.00000, saving model to model-001-0.837683-0.980100.h5\n",
            "Epoch 2/40\n",
            "469/468 [==============================] - 13s 27ms/step - loss: 29437442048.0000 - acc: 0.8855 - val_loss: 29437442048.0000 - val_acc: 0.9890\n",
            "\n",
            "Epoch 00002: val_loss did not improve from 29437442048.00000\n",
            "Epoch 3/40\n",
            "469/468 [==============================] - 13s 27ms/step - loss: 29437442048.0000 - acc: 0.8882 - val_loss: 29437442048.0000 - val_acc: 0.9898\n",
            "\n",
            "Epoch 00003: val_loss did not improve from 29437442048.00000\n",
            "Epoch 4/40\n",
            "469/468 [==============================] - 13s 28ms/step - loss: 29437442048.0000 - acc: 0.8930 - val_loss: 29437442048.0000 - val_acc: 0.9891\n",
            "\n",
            "Epoch 00004: val_loss did not improve from 29437442048.00000\n",
            "Epoch 5/40\n",
            "469/468 [==============================] - 13s 27ms/step - loss: 29437442048.0000 - acc: 0.8902 - val_loss: 29437442048.0000 - val_acc: 0.9909\n",
            "\n",
            "Epoch 00005: val_loss did not improve from 29437442048.00000\n",
            "Epoch 6/40\n",
            "469/468 [==============================] - 13s 27ms/step - loss: 29437442048.0000 - acc: 0.8943 - val_loss: 29437442048.0000 - val_acc: 0.9910\n",
            "\n",
            "Epoch 00006: val_loss did not improve from 29437442048.00000\n",
            "Epoch 7/40\n",
            "469/468 [==============================] - 13s 28ms/step - loss: 29437442048.0000 - acc: 0.8955 - val_loss: 29437442048.0000 - val_acc: 0.9929\n",
            "\n",
            "Epoch 00007: val_loss did not improve from 29437442048.00000\n",
            "Epoch 8/40\n",
            "469/468 [==============================] - 13s 27ms/step - loss: 29437442048.0000 - acc: 0.8961 - val_loss: 29437442048.0000 - val_acc: 0.9934\n",
            "\n",
            "Epoch 00008: val_loss did not improve from 29437442048.00000\n",
            "Epoch 9/40\n",
            "469/468 [==============================] - 13s 27ms/step - loss: 29437442048.0000 - acc: 0.8946 - val_loss: 29437442048.0000 - val_acc: 0.9934\n",
            "\n",
            "Epoch 00009: val_loss did not improve from 29437442048.00000\n",
            "Epoch 10/40\n",
            "469/468 [==============================] - 13s 27ms/step - loss: 29437442048.0000 - acc: 0.8996 - val_loss: 29437442048.0000 - val_acc: 0.9934\n",
            "\n",
            "Epoch 00010: val_loss did not improve from 29437442048.00000\n",
            "Epoch 11/40\n",
            "469/468 [==============================] - 13s 27ms/step - loss: 29437442048.0000 - acc: 0.8980 - val_loss: 29437442048.0000 - val_acc: 0.9934\n",
            "\n",
            "Epoch 00011: val_loss did not improve from 29437442048.00000\n",
            "Epoch 12/40\n",
            "469/468 [==============================] - 13s 28ms/step - loss: 29437442048.0000 - acc: 0.8997 - val_loss: 29437442048.0000 - val_acc: 0.9915\n",
            "\n",
            "Epoch 00012: val_loss did not improve from 29437442048.00000\n",
            "Epoch 13/40\n",
            "469/468 [==============================] - 13s 27ms/step - loss: 29437442048.0000 - acc: 0.8980 - val_loss: 29437442048.0000 - val_acc: 0.9920\n",
            "\n",
            "Epoch 00013: val_loss did not improve from 29437442048.00000\n",
            "Epoch 14/40\n",
            "469/468 [==============================] - 13s 27ms/step - loss: 29437442048.0000 - acc: 0.8980 - val_loss: 29437442048.0000 - val_acc: 0.9933\n",
            "\n",
            "Epoch 00014: val_loss did not improve from 29437442048.00000\n",
            "Epoch 15/40\n",
            "469/468 [==============================] - 13s 27ms/step - loss: 29437442048.0000 - acc: 0.9014 - val_loss: 29437442048.0000 - val_acc: 0.9928\n",
            "\n",
            "Epoch 00015: val_loss did not improve from 29437442048.00000\n",
            "Epoch 16/40\n",
            "469/468 [==============================] - 13s 27ms/step - loss: 29437442048.0000 - acc: 0.9007 - val_loss: 29437442048.0000 - val_acc: 0.9922\n",
            "\n",
            "Epoch 00016: val_loss did not improve from 29437442048.00000\n",
            "Epoch 17/40\n",
            "469/468 [==============================] - 13s 27ms/step - loss: 29437442048.0000 - acc: 0.9002 - val_loss: 29437442048.0000 - val_acc: 0.9935\n",
            "\n",
            "Epoch 00017: val_loss did not improve from 29437442048.00000\n",
            "Epoch 18/40\n",
            "469/468 [==============================] - 13s 28ms/step - loss: 29437442048.0000 - acc: 0.9015 - val_loss: 29437442048.0000 - val_acc: 0.9939\n",
            "\n",
            "Epoch 00018: val_loss did not improve from 29437442048.00000\n",
            "Epoch 19/40\n",
            "469/468 [==============================] - 13s 28ms/step - loss: 29437442048.0000 - acc: 0.9015 - val_loss: 29437442048.0000 - val_acc: 0.9946\n",
            "\n",
            "Epoch 00019: val_loss did not improve from 29437442048.00000\n",
            "Epoch 20/40\n",
            "469/468 [==============================] - 13s 27ms/step - loss: 29437442048.0000 - acc: 0.8985 - val_loss: 29437442048.0000 - val_acc: 0.9943\n",
            "\n",
            "Epoch 00020: val_loss did not improve from 29437442048.00000\n",
            "Epoch 21/40\n",
            "469/468 [==============================] - 13s 28ms/step - loss: 29437442048.0000 - acc: 0.9008 - val_loss: 29437442048.0000 - val_acc: 0.9940\n",
            "\n",
            "Epoch 00021: val_loss did not improve from 29437442048.00000\n",
            "Epoch 22/40\n",
            "469/468 [==============================] - 13s 27ms/step - loss: 29437442048.0000 - acc: 0.9014 - val_loss: 29437442048.0000 - val_acc: 0.9939\n",
            "\n",
            "Epoch 00022: val_loss did not improve from 29437442048.00000\n",
            "Epoch 23/40\n",
            "469/468 [==============================] - 13s 27ms/step - loss: 29437442048.0000 - acc: 0.9027 - val_loss: 29437442048.0000 - val_acc: 0.9942\n",
            "\n",
            "Epoch 00023: val_loss did not improve from 29437442048.00000\n",
            "Epoch 24/40\n",
            "469/468 [==============================] - 13s 27ms/step - loss: 29437442048.0000 - acc: 0.9012 - val_loss: 29437442048.0000 - val_acc: 0.9935\n",
            "\n",
            "Epoch 00024: val_loss did not improve from 29437442048.00000\n",
            "Epoch 25/40\n",
            "469/468 [==============================] - 13s 27ms/step - loss: 29437442048.0000 - acc: 0.9014 - val_loss: 29437442048.0000 - val_acc: 0.9934\n",
            "\n",
            "Epoch 00025: val_loss did not improve from 29437442048.00000\n",
            "Epoch 26/40\n",
            "469/468 [==============================] - 13s 27ms/step - loss: 29437442048.0000 - acc: 0.9009 - val_loss: 29437442048.0000 - val_acc: 0.9941\n",
            "\n",
            "Epoch 00026: val_loss did not improve from 29437442048.00000\n",
            "Epoch 27/40\n",
            "469/468 [==============================] - 13s 27ms/step - loss: 29437442048.0000 - acc: 0.9006 - val_loss: 29437442048.0000 - val_acc: 0.9939\n",
            "\n",
            "Epoch 00027: val_loss did not improve from 29437442048.00000\n",
            "Epoch 28/40\n",
            "469/468 [==============================] - 13s 27ms/step - loss: 29437442048.0000 - acc: 0.9032 - val_loss: 29437442048.0000 - val_acc: 0.9938\n",
            "\n",
            "Epoch 00028: val_loss did not improve from 29437442048.00000\n",
            "Epoch 29/40\n",
            "469/468 [==============================] - 12s 27ms/step - loss: 29437442048.0000 - acc: 0.9023 - val_loss: 29437442048.0000 - val_acc: 0.9941\n",
            "\n",
            "Epoch 00029: val_loss did not improve from 29437442048.00000\n",
            "Epoch 30/40\n",
            "469/468 [==============================] - 12s 27ms/step - loss: 29437442048.0000 - acc: 0.9026 - val_loss: 29437442048.0000 - val_acc: 0.9940\n",
            "\n",
            "Epoch 00030: val_loss did not improve from 29437442048.00000\n",
            "Epoch 31/40\n",
            "469/468 [==============================] - 13s 27ms/step - loss: 29437442048.0000 - acc: 0.9020 - val_loss: 29437442048.0000 - val_acc: 0.9942\n",
            "\n",
            "Epoch 00031: val_loss did not improve from 29437442048.00000\n",
            "Epoch 32/40\n",
            "469/468 [==============================] - 12s 26ms/step - loss: 29437442048.0000 - acc: 0.9048 - val_loss: 29437442048.0000 - val_acc: 0.9937\n",
            "\n",
            "Epoch 00032: val_loss did not improve from 29437442048.00000\n",
            "Epoch 33/40\n",
            "469/468 [==============================] - 13s 27ms/step - loss: 29437442048.0000 - acc: 0.9022 - val_loss: 29437442048.0000 - val_acc: 0.9940\n",
            "\n",
            "Epoch 00033: val_loss did not improve from 29437442048.00000\n",
            "Epoch 34/40\n",
            "469/468 [==============================] - 13s 27ms/step - loss: 29437442048.0000 - acc: 0.9022 - val_loss: 29437442048.0000 - val_acc: 0.9946\n",
            "\n",
            "Epoch 00034: val_loss did not improve from 29437442048.00000\n",
            "Epoch 35/40\n",
            "469/468 [==============================] - 13s 28ms/step - loss: 29437442048.0000 - acc: 0.9045 - val_loss: 29437442048.0000 - val_acc: 0.9948\n",
            "\n",
            "Epoch 00035: val_loss did not improve from 29437442048.00000\n",
            "Epoch 36/40\n",
            "469/468 [==============================] - 13s 27ms/step - loss: 29437442048.0000 - acc: 0.9038 - val_loss: 29437442048.0000 - val_acc: 0.9944\n",
            "\n",
            "Epoch 00036: val_loss did not improve from 29437442048.00000\n",
            "Epoch 37/40\n",
            "469/468 [==============================] - 13s 27ms/step - loss: 29437442048.0000 - acc: 0.9015 - val_loss: 29437442048.0000 - val_acc: 0.9943\n",
            "\n",
            "Epoch 00037: val_loss did not improve from 29437442048.00000\n",
            "Epoch 38/40\n",
            "469/468 [==============================] - 13s 27ms/step - loss: 29437442048.0000 - acc: 0.9015 - val_loss: 29437442048.0000 - val_acc: 0.9943\n",
            "\n",
            "Epoch 00038: val_loss did not improve from 29437442048.00000\n",
            "Epoch 39/40\n",
            "469/468 [==============================] - 13s 27ms/step - loss: 29437442048.0000 - acc: 0.9055 - val_loss: 29437442048.0000 - val_acc: 0.9937\n",
            "\n",
            "Epoch 00039: val_loss did not improve from 29437442048.00000\n",
            "Epoch 40/40\n",
            "469/468 [==============================] - 13s 27ms/step - loss: 29437442048.0000 - acc: 0.9040 - val_loss: 29437442048.0000 - val_acc: 0.9941\n",
            "\n",
            "Epoch 00040: val_loss did not improve from 29437442048.00000\n"
          ],
          "name": "stdout"
        },
        {
          "output_type": "execute_result",
          "data": {
            "text/plain": [
              "<keras.callbacks.History at 0x7fc03045a080>"
            ]
          },
          "metadata": {
            "tags": []
          },
          "execution_count": 65
        }
      ]
    },
    {
      "cell_type": "code",
      "metadata": {
        "id": "WLxlW9ufyQiO",
        "colab_type": "code",
        "outputId": "cc102919-185e-411a-9348-3da39162f4bd",
        "colab": {
          "base_uri": "https://localhost:8080/",
          "height": 67
        }
      },
      "source": [
        "score = model.evaluate(X_test, Y_test, verbose=0)\n",
        "print(score)\n",
        "print(\"Test Loss\", score[0])\n",
        "print(\"Test Accuracy\", score[1])"
      ],
      "execution_count": 66,
      "outputs": [
        {
          "output_type": "stream",
          "text": [
            "[29437442048.0, 0.9941]\n",
            "Test Loss 29437442048.0\n",
            "Test Accuracy 0.9941\n"
          ],
          "name": "stdout"
        }
      ]
    },
    {
      "cell_type": "code",
      "metadata": {
        "id": "tSouS8j_mUj_",
        "colab_type": "code",
        "outputId": "f6a9ad60-9618-4004-db93-cc6bcfff40dc",
        "colab": {
          "base_uri": "https://localhost:8080/",
          "height": 33
        }
      },
      "source": [
        "\n",
        "predicted_classes = model.predict_classes(X_test)\n",
        "predicted_classes"
      ],
      "execution_count": 67,
      "outputs": [
        {
          "output_type": "execute_result",
          "data": {
            "text/plain": [
              "array([7, 2, 1, ..., 4, 5, 6])"
            ]
          },
          "metadata": {
            "tags": []
          },
          "execution_count": 67
        }
      ]
    },
    {
      "cell_type": "code",
      "metadata": {
        "id": "ow_3e_xhmrkZ",
        "colab_type": "code",
        "colab": {
          "base_uri": "https://localhost:8080/",
          "height": 167
        },
        "outputId": "dd637d9a-8ec0-4a9d-b035-e8b9013002f3"
      },
      "source": [
        "# see which we predicted correctly and which not\n",
        "correct_indices = np.nonzero(predicted_classes == y_test)[0]\n",
        "incorrect_indices = np.nonzero(predicted_classes != y_test)[0]\n",
        "print()\n",
        "print(len(correct_indices),\" classified correctly\")\n",
        "print(len(incorrect_indices),\" classified incorrectly\")\n",
        "incorrect_indices"
      ],
      "execution_count": 68,
      "outputs": [
        {
          "output_type": "stream",
          "text": [
            "\n",
            "9941  classified correctly\n",
            "59  classified incorrectly\n"
          ],
          "name": "stdout"
        },
        {
          "output_type": "execute_result",
          "data": {
            "text/plain": [
              "array([ 115,  321,  340,  659,  947, 1014, 1232, 1242, 1247, 1260, 1299,\n",
              "       1530, 1737, 1790, 1878, 1901, 2035, 2130, 2293, 2447, 2462, 2597,\n",
              "       2654, 2771, 2896, 2995, 3030, 3422, 3448, 3520, 3558, 3762, 4176,\n",
              "       4201, 4289, 4443, 4571, 4662, 4699, 4761, 4823, 4874, 5937, 6555,\n",
              "       6571, 6576, 6597, 6625, 8061, 8287, 8326, 8408, 8527, 9015, 9638,\n",
              "       9642, 9698, 9729, 9792])"
            ]
          },
          "metadata": {
            "tags": []
          },
          "execution_count": 68
        }
      ]
    },
    {
      "cell_type": "code",
      "metadata": {
        "id": "4lBHFJaUpNIh",
        "colab_type": "code",
        "colab": {}
      },
      "source": [
        ""
      ],
      "execution_count": 0,
      "outputs": []
    },
    {
      "cell_type": "code",
      "metadata": {
        "id": "yl3lFp4Dm8ja",
        "colab_type": "code",
        "outputId": "4f5534d8-35fd-4dcb-8f32-99991e8306fd",
        "colab": {
          "base_uri": "https://localhost:8080/",
          "height": 748
        }
      },
      "source": [
        "# adapt figure size to accomodate 18 subplots\n",
        "plt.rcParams['figure.figsize'] = (7,14)\n",
        "\n",
        "figure_evaluation = plt.figure()\n",
        "\n",
        "# plot 25 correct predictions\n",
        "for i, incorrect in enumerate(incorrect_indices[:25]):\n",
        "    plt.subplot(5,5,i+1)\n",
        "    plt.imshow(X_test[incorrect].reshape(28,28), cmap='gray', interpolation='none')\n",
        "    plt.title(\n",
        "      \"PRED:{},T:{}\".format(predicted_classes[incorrect],\n",
        "                                        y_test[incorrect]))\n",
        "    plt.xticks([])\n",
        "    plt.yticks([])\n",
        "    "
      ],
      "execution_count": 69,
      "outputs": [
        {
          "output_type": "display_data",
          "data": {
            "image/png": "[encoded data removed]",
            "text/plain": [
              "<Figure size 504x1008 with 25 Axes>"
            ]
          },
          "metadata": {
            "tags": []
          }
        }
      ]
    },
    {
      "cell_type": "code",
      "metadata": {
        "id": "m2qDl21ozBnW",
        "colab_type": "code",
        "colab": {}
      },
      "source": [
        ""
      ],
      "execution_count": 0,
      "outputs": []
    }
  ]
}